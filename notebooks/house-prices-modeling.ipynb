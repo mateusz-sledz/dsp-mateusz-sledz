{
 "cells": [
  {
   "cell_type": "markdown",
   "id": "6ed5acea",
   "metadata": {},
   "source": [
    "# Data loading and preprocessing"
   ]
  },
  {
   "cell_type": "code",
   "execution_count": 40,
   "id": "fd244a1a",
   "metadata": {},
   "outputs": [
    {
     "name": "stdout",
     "output_type": "stream",
     "text": [
      "(1095, 71)\n",
      "(365, 71)\n"
     ]
    }
   ],
   "source": [
    "import pandas as pd\n",
    "import numpy as np\n",
    "from sklearn.model_selection import train_test_split\n",
    "\n",
    "\n",
    "def encode_label(column):\n",
    "    gby = column.groupby(by=column, sort=True, dropna=False).size()\n",
    "\n",
    "    encoded = {}\n",
    "    to_encode = list(gby.index)\n",
    "    for i, name in enumerate(to_encode):\n",
    "        encoded[name] = i\n",
    "\n",
    "    return column.replace(to_replace=encoded)\n",
    "\n",
    "\n",
    "def scale_data(column):\n",
    "    mean = column.mean()\n",
    "    std = column.std()\n",
    "    \n",
    "    return (column - mean)/std\n",
    "\n",
    "    \n",
    "\n",
    "data = pd.read_csv('../data/train.csv')\n",
    "# test = pd.read_csv('../data/test.csv')  test dataset doesn't contain Y labels\n",
    "\n",
    "\n",
    "y = data['SalePrice']\n",
    "\n",
    "\n",
    "to_drop = ['Id', 'MasVnrArea', 'MasVnrType', 'BsmtFullBath', 'BsmtHalfBath', 'GarageYrBlt', 'MoSold',\n",
    "           'SaleType', 'SalePrice', 'LotFrontage']\n",
    "\n",
    "x = data.drop(columns=to_drop)\n",
    "\n",
    "# Transform date to \"time distance\" from now\n",
    "\n",
    "x['YearBuilt'] = 2022 - x['YearBuilt']\n",
    "x['YearRemodAdd'] = 2022 - x['YearRemodAdd']\n",
    "x['YrSold'] = 2022 - x['YrSold']\n",
    "\n",
    "continuous_cols = ['LotArea', 'BsmtFinSF1', 'BsmtFinSF2', 'BsmtUnfSF', 'TotalBsmtSF', '1stFlrSF',\n",
    "                   '2ndFlrSF', 'LowQualFinSF', 'GrLivArea', 'FullBath', 'HalfBath', 'BedroomAbvGr', 'KitchenAbvGr',\n",
    "                   'TotRmsAbvGrd', 'Fireplaces', 'GarageCars', 'GarageArea', 'WoodDeckSF', 'OpenPorchSF',\n",
    "                   'EnclosedPorch', '3SsnPorch', 'ScreenPorch', 'PoolArea', 'MiscVal']\n",
    "\n",
    "categorical_cols = ['MSSubClass', 'MSZoning', 'Street', 'Alley', 'LotShape', 'LandContour',\n",
    "                    'Utilities', 'LotConfig', 'LandSlope', 'Neighborhood', 'Condition1', 'Condition2',\n",
    "                    'BldgType', 'HouseStyle', 'RoofStyle', 'RoofMatl', 'Exterior1st', 'Exterior2nd', 'ExterQual',\n",
    "                    'ExterCond', 'Foundation', 'BsmtQual', 'BsmtCond', 'BsmtExposure',\n",
    "                    'BsmtFinType1', 'BsmtFinType2', 'Heating', 'HeatingQC', 'CentralAir', 'Electrical',\n",
    "                    'KitchenQual', 'Functional', 'FireplaceQu', 'GarageType', 'GarageFinish', 'GarageQual',\n",
    "                    'GarageCond', 'PavedDrive', 'PoolQC', 'Fence', 'MiscFeature', 'SaleCondition']\n",
    "\n",
    "# encode categorical features and scale continuous \n",
    "\n",
    "x[categorical_cols] = x[categorical_cols].apply(lambda col: encode_label(col))\n",
    "x[continuous_cols] = x[continuous_cols].apply(lambda col: scale_data(col))\n",
    "\n",
    "train, test, y_train, y_test = train_test_split(x, y, random_state=0)\n",
    "\n",
    "print(train.shape)\n",
    "print(test.shape)"
   ]
  },
  {
   "cell_type": "markdown",
   "id": "e9e07404",
   "metadata": {},
   "source": [
    "## Let's take a look at transformed dataset."
   ]
  },
  {
   "cell_type": "code",
   "execution_count": 41,
   "id": "fe79b654",
   "metadata": {},
   "outputs": [
    {
     "data": {
      "text/html": [
       "<div>\n",
       "<style scoped>\n",
       "    .dataframe tbody tr th:only-of-type {\n",
       "        vertical-align: middle;\n",
       "    }\n",
       "\n",
       "    .dataframe tbody tr th {\n",
       "        vertical-align: top;\n",
       "    }\n",
       "\n",
       "    .dataframe thead th {\n",
       "        text-align: right;\n",
       "    }\n",
       "</style>\n",
       "<table border=\"1\" class=\"dataframe\">\n",
       "  <thead>\n",
       "    <tr style=\"text-align: right;\">\n",
       "      <th></th>\n",
       "      <th>MSSubClass</th>\n",
       "      <th>MSZoning</th>\n",
       "      <th>LotArea</th>\n",
       "      <th>Street</th>\n",
       "      <th>Alley</th>\n",
       "      <th>LotShape</th>\n",
       "      <th>LandContour</th>\n",
       "      <th>Utilities</th>\n",
       "      <th>LotConfig</th>\n",
       "      <th>LandSlope</th>\n",
       "      <th>...</th>\n",
       "      <th>EnclosedPorch</th>\n",
       "      <th>3SsnPorch</th>\n",
       "      <th>ScreenPorch</th>\n",
       "      <th>PoolArea</th>\n",
       "      <th>PoolQC</th>\n",
       "      <th>Fence</th>\n",
       "      <th>MiscFeature</th>\n",
       "      <th>MiscVal</th>\n",
       "      <th>YrSold</th>\n",
       "      <th>SaleCondition</th>\n",
       "    </tr>\n",
       "  </thead>\n",
       "  <tbody>\n",
       "    <tr>\n",
       "      <th>1292</th>\n",
       "      <td>6</td>\n",
       "      <td>4</td>\n",
       "      <td>-0.392418</td>\n",
       "      <td>1</td>\n",
       "      <td>2.0</td>\n",
       "      <td>3</td>\n",
       "      <td>3</td>\n",
       "      <td>0</td>\n",
       "      <td>0</td>\n",
       "      <td>0</td>\n",
       "      <td>...</td>\n",
       "      <td>-0.359202</td>\n",
       "      <td>-0.116299</td>\n",
       "      <td>-0.270116</td>\n",
       "      <td>-0.068668</td>\n",
       "      <td>3.0</td>\n",
       "      <td>4.0</td>\n",
       "      <td>4.0</td>\n",
       "      <td>-0.087658</td>\n",
       "      <td>13</td>\n",
       "      <td>4</td>\n",
       "    </tr>\n",
       "    <tr>\n",
       "      <th>1018</th>\n",
       "      <td>8</td>\n",
       "      <td>3</td>\n",
       "      <td>0.026767</td>\n",
       "      <td>1</td>\n",
       "      <td>2.0</td>\n",
       "      <td>0</td>\n",
       "      <td>3</td>\n",
       "      <td>0</td>\n",
       "      <td>2</td>\n",
       "      <td>0</td>\n",
       "      <td>...</td>\n",
       "      <td>-0.359202</td>\n",
       "      <td>-0.116299</td>\n",
       "      <td>-0.270116</td>\n",
       "      <td>-0.068668</td>\n",
       "      <td>3.0</td>\n",
       "      <td>4.0</td>\n",
       "      <td>4.0</td>\n",
       "      <td>-0.087658</td>\n",
       "      <td>15</td>\n",
       "      <td>4</td>\n",
       "    </tr>\n",
       "    <tr>\n",
       "      <th>1213</th>\n",
       "      <td>8</td>\n",
       "      <td>3</td>\n",
       "      <td>-0.027134</td>\n",
       "      <td>1</td>\n",
       "      <td>2.0</td>\n",
       "      <td>0</td>\n",
       "      <td>3</td>\n",
       "      <td>0</td>\n",
       "      <td>1</td>\n",
       "      <td>0</td>\n",
       "      <td>...</td>\n",
       "      <td>-0.359202</td>\n",
       "      <td>-0.116299</td>\n",
       "      <td>-0.270116</td>\n",
       "      <td>-0.068668</td>\n",
       "      <td>3.0</td>\n",
       "      <td>4.0</td>\n",
       "      <td>4.0</td>\n",
       "      <td>-0.087658</td>\n",
       "      <td>16</td>\n",
       "      <td>4</td>\n",
       "    </tr>\n",
       "    <tr>\n",
       "      <th>1430</th>\n",
       "      <td>5</td>\n",
       "      <td>3</td>\n",
       "      <td>1.143459</td>\n",
       "      <td>1</td>\n",
       "      <td>2.0</td>\n",
       "      <td>2</td>\n",
       "      <td>3</td>\n",
       "      <td>0</td>\n",
       "      <td>4</td>\n",
       "      <td>0</td>\n",
       "      <td>...</td>\n",
       "      <td>-0.359202</td>\n",
       "      <td>-0.116299</td>\n",
       "      <td>-0.270116</td>\n",
       "      <td>-0.068668</td>\n",
       "      <td>3.0</td>\n",
       "      <td>4.0</td>\n",
       "      <td>4.0</td>\n",
       "      <td>-0.087658</td>\n",
       "      <td>16</td>\n",
       "      <td>4</td>\n",
       "    </tr>\n",
       "    <tr>\n",
       "      <th>810</th>\n",
       "      <td>0</td>\n",
       "      <td>3</td>\n",
       "      <td>-0.037754</td>\n",
       "      <td>1</td>\n",
       "      <td>2.0</td>\n",
       "      <td>3</td>\n",
       "      <td>3</td>\n",
       "      <td>0</td>\n",
       "      <td>4</td>\n",
       "      <td>0</td>\n",
       "      <td>...</td>\n",
       "      <td>-0.359202</td>\n",
       "      <td>-0.116299</td>\n",
       "      <td>-0.270116</td>\n",
       "      <td>16.059839</td>\n",
       "      <td>1.0</td>\n",
       "      <td>0.0</td>\n",
       "      <td>4.0</td>\n",
       "      <td>-0.087658</td>\n",
       "      <td>16</td>\n",
       "      <td>4</td>\n",
       "    </tr>\n",
       "  </tbody>\n",
       "</table>\n",
       "<p>5 rows × 71 columns</p>\n",
       "</div>"
      ],
      "text/plain": [
       "      MSSubClass  MSZoning   LotArea  Street  Alley  LotShape  LandContour  \\\n",
       "1292           6         4 -0.392418       1    2.0         3            3   \n",
       "1018           8         3  0.026767       1    2.0         0            3   \n",
       "1213           8         3 -0.027134       1    2.0         0            3   \n",
       "1430           5         3  1.143459       1    2.0         2            3   \n",
       "810            0         3 -0.037754       1    2.0         3            3   \n",
       "\n",
       "      Utilities  LotConfig  LandSlope  ...  EnclosedPorch  3SsnPorch  \\\n",
       "1292          0          0          0  ...      -0.359202  -0.116299   \n",
       "1018          0          2          0  ...      -0.359202  -0.116299   \n",
       "1213          0          1          0  ...      -0.359202  -0.116299   \n",
       "1430          0          4          0  ...      -0.359202  -0.116299   \n",
       "810           0          4          0  ...      -0.359202  -0.116299   \n",
       "\n",
       "      ScreenPorch   PoolArea  PoolQC  Fence  MiscFeature   MiscVal  YrSold  \\\n",
       "1292    -0.270116  -0.068668     3.0    4.0          4.0 -0.087658      13   \n",
       "1018    -0.270116  -0.068668     3.0    4.0          4.0 -0.087658      15   \n",
       "1213    -0.270116  -0.068668     3.0    4.0          4.0 -0.087658      16   \n",
       "1430    -0.270116  -0.068668     3.0    4.0          4.0 -0.087658      16   \n",
       "810     -0.270116  16.059839     1.0    0.0          4.0 -0.087658      16   \n",
       "\n",
       "      SaleCondition  \n",
       "1292              4  \n",
       "1018              4  \n",
       "1213              4  \n",
       "1430              4  \n",
       "810               4  \n",
       "\n",
       "[5 rows x 71 columns]"
      ]
     },
     "execution_count": 41,
     "metadata": {},
     "output_type": "execute_result"
    }
   ],
   "source": [
    "train.head()"
   ]
  },
  {
   "cell_type": "markdown",
   "id": "e982db2e",
   "metadata": {},
   "source": [
    "## Looks like everything went as expected.\n",
    "We received mix of encoded categorical features and scaled continuous features.\n",
    "We could also take another approach using One Hot encoding, but for random forest models it is better to use ordinal encoding to reduce number of features."
   ]
  },
  {
   "cell_type": "markdown",
   "id": "455a9add",
   "metadata": {},
   "source": [
    "# Models\n",
    "## Random Forest"
   ]
  },
  {
   "cell_type": "code",
   "execution_count": 42,
   "id": "e7c46b9c",
   "metadata": {},
   "outputs": [
    {
     "name": "stdout",
     "output_type": "stream",
     "text": [
      "Loss:  0.132\n"
     ]
    },
    {
     "data": {
      "text/plain": [
       "Text(0.5, 0, 'Random Forest Feature Importance')"
      ]
     },
     "execution_count": 42,
     "metadata": {},
     "output_type": "execute_result"
    },
    {
     "data": {
      "image/png": "[encoded data removed]",
      "text/plain": [
       "<Figure size 1008x1008 with 1 Axes>"
      ]
     },
     "metadata": {
      "needs_background": "light"
     },
     "output_type": "display_data"
    }
   ],
   "source": [
    "from sklearn.ensemble import RandomForestRegressor\n",
    "import numpy as np\n",
    "from sklearn.metrics import mean_squared_log_error\n",
    "import matplotlib.pyplot as plt\n",
    "\n",
    "def compute_rmsle(y_test: np.ndarray, y_pred: np.ndarray, precision: int = 2) -> float:\n",
    "    rmsle = np.sqrt(mean_squared_log_error(y_test, y_pred))\n",
    "    return round(rmsle, precision)\n",
    "\n",
    "rf = RandomForestRegressor(n_estimators=40, random_state=0)\n",
    "rf.fit(train, y_train)\n",
    "y_pred = rf.predict(test)\n",
    "\n",
    "print(\"Loss: \", compute_rmsle(np.array(y_test), np.array(y_pred), 3))\n",
    "\n",
    "plt.rcParams[\"figure.figsize\"] = (14,14)\n",
    "\n",
    "\n",
    "sorted_idx = rf.feature_importances_.argsort()\n",
    "plt.barh(train.columns[sorted_idx], rf.feature_importances_[sorted_idx])\n",
    "plt.xlabel(\"Random Forest Feature Importance\")\n"
   ]
  },
  {
   "cell_type": "markdown",
   "id": "c807d1b4",
   "metadata": {},
   "source": [
    "## Random Forest with PCA\n",
    "### PCA is not helping with the loss, but  it's reducing number of features. It could be helpful to train the model with large dataset (to speed calculations) which is not the case here.\n",
    "### As we can see, with only 11 new features (out of more than 70) we are receving similar results."
   ]
  },
  {
   "cell_type": "code",
   "execution_count": 36,
   "id": "a18504d4",
   "metadata": {},
   "outputs": [
    {
     "name": "stdout",
     "output_type": "stream",
     "text": [
      "Loss:  0.154\n"
     ]
    },
    {
     "data": {
      "text/plain": [
       "Text(0.5, 0, 'Random Forest Feature Importance')"
      ]
     },
     "execution_count": 36,
     "metadata": {},
     "output_type": "execute_result"
    },
    {
     "data": {
      "image/png": "[encoded data removed]",
      "text/plain": [
       "<Figure size 1008x720 with 1 Axes>"
      ]
     },
     "metadata": {
      "needs_background": "light"
     },
     "output_type": "display_data"
    }
   ],
   "source": [
    "from sklearn.decomposition import PCA\n",
    "\n",
    "pca = PCA(n_components=11)\n",
    "\n",
    "principalComponents = pca.fit_transform(x)\n",
    "principalDf = pd.DataFrame(data = principalComponents)\n",
    "\n",
    "train, test, y_train, y_test = train_test_split(principalDf, y, random_state=0)\n",
    "\n",
    "rf = RandomForestRegressor(n_estimators=40, random_state=2)\n",
    "rf.fit(train, y_train)\n",
    "y_pred = rf.predict(test)\n",
    "\n",
    "print('Loss: ', compute_rmsle(np.array(y_test), np.array(y_pred), 3))\n",
    "\n",
    "plt.rcParams[\"figure.figsize\"] = (14,10)\n",
    "\n",
    "sorted_idx = rf.feature_importances_.argsort()\n",
    "plt.barh(train.columns[sorted_idx], rf.feature_importances_[sorted_idx])\n",
    "plt.xlabel(\"Random Forest Feature Importance\")\n",
    "\n"
   ]
  },
  {
   "cell_type": "markdown",
   "id": "d63b8665",
   "metadata": {},
   "source": [
    "## Linear Regression"
   ]
  },
  {
   "cell_type": "code",
   "execution_count": 31,
   "id": "92ce5882",
   "metadata": {},
   "outputs": [
    {
     "name": "stdout",
     "output_type": "stream",
     "text": [
      "Loss:  0.202\n"
     ]
    }
   ],
   "source": [
    "from sklearn.linear_model import LinearRegression\n",
    "\n",
    "train, test, y_train, y_test = train_test_split(x, y, random_state=0)\n",
    "\n",
    "lr = LinearRegression().fit(train, y_train)\n",
    "predictions = lr.predict(test)\n",
    "predictions = abs(predictions)\n",
    "\n",
    "print('Loss: ', compute_rmsle(np.array(y_test), np.array(predictions), 3))"
   ]
  },
  {
   "cell_type": "markdown",
   "id": "ac164ec7",
   "metadata": {},
   "source": [
    "## Now we choose only few features with biggest importance from random forest model.\n",
    "### As we can see, the loss is not much higher. "
   ]
  },
  {
   "cell_type": "code",
   "execution_count": 35,
   "id": "b5981b4e",
   "metadata": {},
   "outputs": [
    {
     "name": "stdout",
     "output_type": "stream",
     "text": [
      "Loss:  0.21\n"
     ]
    }
   ],
   "source": [
    "\n",
    "to_choose = ['OverallQual', 'GrLivArea', 'TotalBsmtSF', 'GarageCars', 'BsmtFinSF1', '1stFlrSF', '2ndFlrSF',\n",
    "            'LotArea', 'GarageArea', 'YearBuilt']\n",
    "\n",
    "X_small = x[to_choose]\n",
    "\n",
    "train, test, y_train, y_test = train_test_split(X_small, y, random_state=0)\n",
    "\n",
    "lr = LinearRegression().fit(train, y_train)\n",
    "predictions = lr.predict(test)\n",
    "predictions = abs(predictions)\n",
    "#train.head()\n",
    "print('Loss: ', compute_rmsle(np.array(y_test), np.array(predictions), 3))"
   ]
  },
  {
   "cell_type": "code",
   "execution_count": null,
   "id": "05f4addd",
   "metadata": {},
   "outputs": [],
   "source": []
  }
 ],
 "metadata": {
  "kernelspec": {
   "display_name": "Python 3 (ipykernel)",
   "language": "python",
   "name": "python3"
  },
  "language_info": {
   "codemirror_mode": {
    "name": "ipython",
    "version": 3
   },
   "file_extension": ".py",
   "mimetype": "text/x-python",
   "name": "python",
   "nbconvert_exporter": "python",
   "pygments_lexer": "ipython3",
   "version": "3.9.12"
  }
 },
 "nbformat": 4,
 "nbformat_minor": 5
}
