{
 "cells": [
  {
   "cell_type": "code",
   "execution_count": 1,
   "id": "847f3fca",
   "metadata": {},
   "outputs": [],
   "source": [
    "import pandas as pd"
   ]
  },
  {
   "cell_type": "markdown",
   "id": "21fa6c1e",
   "metadata": {},
   "source": [
    "# Model Training"
   ]
  },
  {
   "cell_type": "code",
   "execution_count": 2,
   "id": "e618ec88",
   "metadata": {},
   "outputs": [],
   "source": [
    "import sys\n",
    "\n",
    "sys.path.append('..')"
   ]
  },
  {
   "cell_type": "code",
   "execution_count": 3,
   "id": "c320ecc5",
   "metadata": {},
   "outputs": [
    {
     "name": "stdout",
     "output_type": "stream",
     "text": [
      "RMSLE is equal to: 0.133 \n",
      "\n",
      "path to model: /Users/mateusz/Documents/EPITA/DSP/dsp-mateusz-sledz/models/model.joblib\n"
     ]
    }
   ],
   "source": [
    "from house_prices.train import build_model\n",
    "\n",
    "training_data_df = pd.read_csv('../data/train.csv')\n",
    "model_performance_dict = build_model(training_data_df)\n",
    "\n",
    "print('RMSLE is equal to: {0} \\n\\npath to model: {1}'.format(*model_performance_dict.values()))"
   ]
  },
  {
   "cell_type": "markdown",
   "id": "7a255bfd",
   "metadata": {},
   "source": [
    "# Model Inference"
   ]
  },
  {
   "cell_type": "code",
   "execution_count": 4,
   "id": "6e0e1961",
   "metadata": {},
   "outputs": [],
   "source": [
    "user_data_df = pd.read_csv('../data/test.csv')"
   ]
  },
  {
   "cell_type": "code",
   "execution_count": 5,
   "id": "5b12e34e",
   "metadata": {},
   "outputs": [
    {
     "name": "stdout",
     "output_type": "stream",
     "text": [
      "[124201.9   155790.    187147.5   188655.    203292.5   186722.5\n",
      " 163148.75  174995.375 183628.75  128906.25  210120.     96237.5\n",
      "  96785.    152521.25  142947.5   369724.125 246591.275 296674.225\n",
      " 244552.35  466576.85  302543.85  208212.5   169668.25  170639.125\n",
      " 172131.025 185431.25  315479.225 244341.375 207181.95  197406.25\n",
      " 191287.1    93413.725 183973.5   305405.725 294633.725 238369.05\n",
      " 196698.125 152550.1   151232.6   149918.3   171656.25  161991.625\n",
      " 288409.825 238398.825 220448.325 183933.75  209977.5   202644.625\n",
      " 161876.25  153223.75  153683.75  165323.75  151385.5   164237.5\n",
      " 176690.    156197.5   153070.625 133092.5   226672.575 140955.625\n",
      " 147993.75  159350.    107925.45  125475.    124213.75  122325.\n",
      " 105593.4   130993.75  146091.25  163083.75  126813.1   106260.\n",
      " 155018.75  118715.1   155225.    111561.425  75365.    197907.125\n",
      " 237699.75  121484.5   152319.375 157137.5   223064.5    82731.25\n",
      " 102928.75  123481.25  132089.6   133266.55  112207.5   138462.95\n",
      " 118581.5   150945.675 146135.725 111485.2   180839.625 103885.\n",
      " 121443.75   82177.5   126179.75  142851.75 ]\n"
     ]
    }
   ],
   "source": [
    "from house_prices.inference import make_predictions\n",
    "\n",
    "predictions = make_predictions(user_data_df)\n",
    "\n",
    "print(predictions[:100])"
   ]
  },
  {
   "cell_type": "code",
   "execution_count": null,
   "id": "4fab5c88",
   "metadata": {},
   "outputs": [],
   "source": []
  }
 ],
 "metadata": {
  "kernelspec": {
   "display_name": "Python 3 (ipykernel)",
   "language": "python",
   "name": "python3"
  },
  "language_info": {
   "codemirror_mode": {
    "name": "ipython",
    "version": 3
   },
   "file_extension": ".py",
   "mimetype": "text/x-python",
   "name": "python",
   "nbconvert_exporter": "python",
   "pygments_lexer": "ipython3",
   "version": "3.9.12"
  }
 },
 "nbformat": 4,
 "nbformat_minor": 5
}
